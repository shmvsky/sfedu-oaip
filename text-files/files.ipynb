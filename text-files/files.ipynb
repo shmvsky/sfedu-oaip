{
 "cells": [
  {
   "cell_type": "markdown",
   "metadata": {},
   "source": [
    "# #1 Дан файл, содержащий несколько строк текста. Подсчитать сколько в нём строк, слов и непробельных символов. Указание: Функции *len()* и *split()* не использовать.\n"
   ]
  },
  {
   "cell_type": "code",
   "execution_count": 52,
   "metadata": {},
   "outputs": [
    {
     "name": "stdout",
     "output_type": "stream",
     "text": [
      "число строк: 5\n",
      "число слов: 9\n",
      "число непробельных символов: 60\n"
     ]
    }
   ],
   "source": [
    "with open('./1.txt', 'r') as file:\n",
    "    lc = 0\n",
    "    wc = 0\n",
    "    cc = 0\n",
    "    for line in file:\n",
    "        sc = 0\n",
    "        lc += 1\n",
    "        for char in line:\n",
    "            if char != ' ':\n",
    "                cc += 1\n",
    "            else:\n",
    "                sc += 1\n",
    "        cc -= sc\n",
    "        wc += sc+1\n",
    "    cc += 1\n",
    "print(f'число строк: {lc}\\nчисло слов: {wc}\\nчисло непробельных символов: {cc}')"
   ]
  },
  {
   "cell_type": "markdown",
   "metadata": {},
   "source": [
    "# #2 Создать файл случайных целых чисел. Поменять в нем все элементы на их квадраты."
   ]
  },
  {
   "cell_type": "code",
   "execution_count": 78,
   "metadata": {},
   "outputs": [],
   "source": [
    "from random import randint\n",
    "\n",
    "\n",
    "def create_file():\n",
    "    with open('./2.txt', 'w') as file:\n",
    "        str_to_write = [str(randint(-9, 9)) for _ in range(1, randint(1, 123)+1)]\n",
    "        file.write(' '.join(str_to_write))\n",
    "\n",
    "def change_file():\n",
    "    with open('./2.txt', 'r') as file:\n",
    "        str_to_write = [str(int(char)**2) for char in file.readline().split(' ')]\n",
    "    with open('./2.txt', 'w') as file:\n",
    "        file.write(' '.join(str_to_write))"
   ]
  },
  {
   "cell_type": "code",
   "execution_count": 83,
   "metadata": {},
   "outputs": [],
   "source": [
    "# create_file()\n",
    "# change_file()"
   ]
  },
  {
   "cell_type": "markdown",
   "metadata": {},
   "source": [
    "# #4 Создать файл случайных вещественных чисел. Заменить в нем каждый элемент с чётным номеромна три нуля.\n"
   ]
  },
  {
   "cell_type": "code",
   "execution_count": 208,
   "metadata": {},
   "outputs": [],
   "source": [
    "from random import uniform, choice\n",
    "\n",
    "\n",
    "def create_file():\n",
    "    with open('./3.txt', 'w') as file:\n",
    "        str_to_write = [str(round(uniform(-100,100), choice([None,1,2,3]))) for _ in range(1, randint(1, 5)+1)]\n",
    "        file.write(' '.join(str_to_write))\n",
    "\n",
    "def change_file():\n",
    "    with open('./3.txt', 'r') as file:\n",
    "        words = file.readline().split()\n",
    "        for i in range(0, len(words), 2):\n",
    "            if i%2==0:\n",
    "                words[i]='000'\n",
    "\n",
    "    with open('./3.txt', 'w') as file:\n",
    "        file.write(' '.join(words))"
   ]
  },
  {
   "cell_type": "code",
   "execution_count": 213,
   "metadata": {},
   "outputs": [],
   "source": [
    "create_file()\n",
    "change_file()"
   ]
  },
  {
   "cell_type": "markdown",
   "metadata": {},
   "source": [
    "# #5 Создать файл случайных целых чисел, количество которых также случайно, но строго меньше 50. Увеличить его размер до 50 элементов, записав в начало файла необходимое количество нулей."
   ]
  },
  {
   "cell_type": "code",
   "execution_count": 96,
   "metadata": {},
   "outputs": [],
   "source": [
    "from random import randint\n",
    "\n",
    "\n",
    "def create_file():\n",
    "    with open('./5.txt', 'w') as file:\n",
    "        str_to_write = [str(randint(-9, 9)) for _ in range(1, randint(1, 49)+1)]\n",
    "        str_to_write = ' '.join(str_to_write)\n",
    "        file.write(str_to_write)\n",
    "    \n",
    "    print(str_to_write) #####\n",
    "\n",
    "def change_file():\n",
    "    with open('./5.txt', 'r') as file:\n",
    "        old_line = file.readline()\n",
    "        n = old_line.count(' ') + 1\n",
    "    \n",
    "    with open('./5.txt', 'w') as file:\n",
    "        zeros = '0 '*(50-n)\n",
    "        new_line = zeros + old_line\n",
    "        file.write(new_line)\n",
    "    \n",
    "    print(new_line) #####"
   ]
  },
  {
   "cell_type": "code",
   "execution_count": 100,
   "metadata": {},
   "outputs": [
    {
     "name": "stdout",
     "output_type": "stream",
     "text": [
      "7 -4 -5 -4 0 3\n",
      "0 0 0 0 0 0 0 0 0 0 0 0 0 0 0 0 0 0 0 0 0 0 0 0 0 0 0 0 0 0 0 0 0 0 0 0 0 0 0 0 0 0 0 0 7 -4 -5 -4 0 3\n"
     ]
    }
   ],
   "source": [
    "create_file()\n",
    "change_file()"
   ]
  },
  {
   "cell_type": "markdown",
   "metadata": {},
   "source": [
    "# #7 Дан файл целых чисел, разделённых пробелами, состоящий из нескольких строк. Найти в каждой строке максимальный по модулю элемент. В новый файл записать максимальные значения каждой из строк.  Вывести на экран содержимое нового файла."
   ]
  },
  {
   "cell_type": "code",
   "execution_count": 214,
   "metadata": {},
   "outputs": [],
   "source": [
    "from random import randint\n",
    "\n",
    "def create_file():\n",
    "    with open('./7.txt', 'w') as file:\n",
    "        end = randint(2, 5)\n",
    "        for i in range(2, end+1):\n",
    "            line = [str(randint(-9, 9)) for _ in range(1, randint(1, 10)+1)]\n",
    "            if i == end:\n",
    "                line_str = ' '.join(line)\n",
    "            else:\n",
    "                line_str = ' '.join(line) + '\\n'\n",
    "            file.write(line_str)\n",
    "\n",
    "            print(line_str, end='') #####\n",
    "\n",
    "\n",
    "def change_file():\n",
    "    with open('./7.txt', 'r') as file:\n",
    "        mxs = []\n",
    "        for line in file:\n",
    "            mx = 0\n",
    "            for n in line.split(' '):\n",
    "                n_abs = abs(int(n))\n",
    "                if n_abs > mx:\n",
    "                    mx = n_abs\n",
    "            mxs.append(str(mx))\n",
    "    \n",
    "    with open('./7.txt', 'w') as file:\n",
    "        str_to_write = ' '.join(mxs)\n",
    "        file.write(str_to_write)\n",
    "\n",
    "        print(str_to_write) #####\n",
    "            \n",
    "\n",
    "            "
   ]
  },
  {
   "cell_type": "code",
   "execution_count": 219,
   "metadata": {},
   "outputs": [
    {
     "name": "stdout",
     "output_type": "stream",
     "text": [
      "8 4 8 -6\n",
      "6"
     ]
    }
   ],
   "source": [
    "create_file()"
   ]
  },
  {
   "cell_type": "code",
   "execution_count": 220,
   "metadata": {},
   "outputs": [
    {
     "name": "stdout",
     "output_type": "stream",
     "text": [
      "8 6\n"
     ]
    }
   ],
   "source": [
    "change_file()"
   ]
  },
  {
   "cell_type": "markdown",
   "metadata": {},
   "source": [
    "# #10 Дан текстовый файл и число $N$. Определить и вывести на экран строку с номером $N$. Оставить в файле только строки от начала до $N$ включительно. В начале каждой строки дописать её номер. Вывести на экран содержимое изменённого файла"
   ]
  },
  {
   "cell_type": "code",
   "execution_count": 279,
   "metadata": {},
   "outputs": [],
   "source": [
    "from random import randint\n",
    "\n",
    "def create_file():\n",
    "    with open('./10.txt', 'w') as file:\n",
    "        end = randint(1, 15)\n",
    "        for i in range(end):\n",
    "            line = [str(randint(-9, 9)) for _ in range(1, randint(1, 10)+1)]\n",
    "            if i == end-1:\n",
    "                line_str = ' '.join(line)\n",
    "            else:\n",
    "                line_str = ' '.join(line) + '\\n'\n",
    "            file.write(line_str)\n",
    "    N = randint(0, end-1)\n",
    "    return N\n",
    "\n",
    "\n",
    "def change_file(N):\n",
    "    with open('./10.txt', 'r') as file:\n",
    "        lines = file.readlines()\n",
    "        str_to_write = ''\n",
    "        for i in range(N+1):\n",
    "            str_to_write += f'{i}) ' + lines[i]\n",
    "        str_to_write = str_to_write.rstrip('\\n')\n",
    "        \n",
    "    with open('./10.txt', 'w') as file:\n",
    "        file.write(str_to_write)"
   ]
  },
  {
   "cell_type": "code",
   "execution_count": 290,
   "metadata": {},
   "outputs": [
    {
     "name": "stdout",
     "output_type": "stream",
     "text": [
      "3\n"
     ]
    }
   ],
   "source": [
    "N = create_file()\n",
    "print(N)"
   ]
  },
  {
   "cell_type": "code",
   "execution_count": 291,
   "metadata": {},
   "outputs": [],
   "source": [
    "change_file(N)"
   ]
  },
  {
   "cell_type": "markdown",
   "metadata": {},
   "source": [
    "# #11 Дано два файла, состоящие из целых чисел разделённых пробелами (количество строк в файлах может быть любым). Проверить, что набор чисел в обоих файлах одинаковый"
   ]
  },
  {
   "cell_type": "code",
   "execution_count": 17,
   "metadata": {},
   "outputs": [],
   "source": [
    "from random import randint\n",
    "\n",
    "\n",
    "\n",
    "def create_files():\n",
    "    with open('./11_1.txt', 'w') as file:\n",
    "        n = randint(1, 15)\n",
    "        for i in range(n):\n",
    "            line = [str(randint(-9, 9)) for _ in range(1, randint(1, 10)+1)]\n",
    "            if i == n-1:\n",
    "                line_str = ' '.join(line)\n",
    "            else:\n",
    "                line_str = ' '.join(line) + '\\n'\n",
    "            file.write(line_str)\n",
    "    \n",
    "    with open('./11_2.txt', 'w') as file:\n",
    "        n = randint(1, 15)\n",
    "        for i in range(n):\n",
    "            line = [str(randint(-9, 9)) for _ in range(1, randint(1, 10)+1)]\n",
    "            if i == n-1:\n",
    "                line_str = ' '.join(line)\n",
    "            else:\n",
    "                line_str = ' '.join(line) + '\\n'\n",
    "            file.write(line_str)\n",
    "\n",
    "def check_files():\n",
    "    \n",
    "    "
   ]
  },
  {
   "cell_type": "code",
   "execution_count": 18,
   "metadata": {},
   "outputs": [],
   "source": [
    "create_files()"
   ]
  }
 ],
 "metadata": {
  "interpreter": {
   "hash": "c94e8836f7032e9a074dbc235d1c1c8ba204952e3223139acb686e19bf21a5b3"
  },
  "kernelspec": {
   "display_name": "Python 3.10.0 64-bit",
   "language": "python",
   "name": "python3"
  },
  "language_info": {
   "codemirror_mode": {
    "name": "ipython",
    "version": 3
   },
   "file_extension": ".py",
   "mimetype": "text/x-python",
   "name": "python",
   "nbconvert_exporter": "python",
   "pygments_lexer": "ipython3",
   "version": "3.10.0"
  },
  "orig_nbformat": 4
 },
 "nbformat": 4,
 "nbformat_minor": 2
}
