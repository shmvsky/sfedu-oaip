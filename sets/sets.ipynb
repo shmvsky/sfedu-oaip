{
 "cells": [
  {
   "cell_type": "markdown",
   "metadata": {},
   "source": [
    "# Написать программу, выделяющую из некоторого заданного множества подмножество четных чисел."
   ]
  },
  {
   "cell_type": "code",
   "execution_count": 49,
   "metadata": {},
   "outputs": [
    {
     "name": "stdout",
     "output_type": "stream",
     "text": [
      "Начальное множество {1, 3, 5, 6, 8, 9}\n",
      "Подмнодество четных {8, 6}\n"
     ]
    }
   ],
   "source": [
    "from random import randint\n",
    "\n",
    "a = {randint(1, 9) for i in range(1, randint(1, 9)+1)}\n",
    "b = {n for n in a if n%2==0}\n",
    "\n",
    "print('Начальное множество', a)\n",
    "print('Подмнодество четных', b)"
   ]
  },
  {
   "cell_type": "markdown",
   "metadata": {},
   "source": [
    "# Создать множество согласных букв, входящих в заданную строку. Исходная строка может содержать символы латинского алфавита, пробелы и знаки препина­ния\n"
   ]
  },
  {
   "cell_type": "code",
   "execution_count": 64,
   "metadata": {},
   "outputs": [
    {
     "data": {
      "text/plain": [
       "{'b', 'd', 'h', 'j', 'k', 'q', 'w'}"
      ]
     },
     "execution_count": 64,
     "metadata": {},
     "output_type": "execute_result"
    }
   ],
   "source": [
    "import random\n",
    "import string\n",
    "\n",
    "consonants = ['b','c','d','f','g','h','j','k','l','m','n','p','q','r','s','t','v','w','x','z']\n",
    "\n",
    "a = 'jawhdjahwkj awdiuq 382974 akahdb 545645640'\n",
    "\n",
    "b = {char for char in a if char in consonants}\n",
    "\n",
    "b"
   ]
  },
  {
   "cell_type": "markdown",
   "metadata": {},
   "source": [
    "# Дано множество символов, состоящее из различных строчных латинских букв. Напечатать элементы данного множества в алфавитном порядке"
   ]
  },
  {
   "cell_type": "code",
   "execution_count": 109,
   "metadata": {},
   "outputs": [
    {
     "name": "stdout",
     "output_type": "stream",
     "text": [
      "oroginal set: {'b', 'f', 'l', 'u', 'i', 'y', 'g', 'q'}\n",
      "chars in alphabetical order: b, f, g, i, l, q, u, y\n"
     ]
    }
   ],
   "source": [
    "from random import randint\n",
    "from random import choice\n",
    "\n",
    "alphabet = ['q','w','e','r','t','y','u','i','o','p','a','s','d','f','g','h','j','k','l','z','x','c','v','b','n','m']\n",
    "\n",
    "\n",
    "random_str = {choice(alphabet) for _ in range(1, randint(1, 9)+1)}\n",
    "\n",
    "\n",
    "print('oroginal set:', random_str)\n",
    "print('chars in alphabetical order:', ', '.join(sorted(random_str)))\n"
   ]
  },
  {
   "cell_type": "markdown",
   "metadata": {},
   "source": [
    "# Дан список $A$, содержащий различные целые числа; дан список $B$, содер­жащий различные целые числа. Выяснить, верно ли, что оба списка отличаются не более, чем порядком следования чисел.\n",
    "**Указание**. Постройте множества, состоящие из элементов списков."
   ]
  },
  {
   "cell_type": "code",
   "execution_count": 208,
   "metadata": {},
   "outputs": [
    {
     "name": "stdout",
     "output_type": "stream",
     "text": [
      "Список A: [1]\n",
      "Список B: [1]\n",
      "Совпадают ли элементы?: True\n"
     ]
    }
   ],
   "source": [
    "from random import randint\n",
    "\n",
    "n = randint(1, 2)\n",
    "A = [randint(0, 9+1) for _ in range(1, n+1)]\n",
    "B = [randint(0, 9+1) for _ in range(1, n+1)]\n",
    "\n",
    "print('Список A:',A)\n",
    "print('Список B:',B)\n",
    "print('Совпадают ли элементы?:',set(A) == set(B))"
   ]
  },
  {
   "cell_type": "markdown",
   "metadata": {},
   "source": [
    "# Из двух исходных списков составить новый список, содержащий только общие элементы (без повторений)"
   ]
  },
  {
   "cell_type": "code",
   "execution_count": 238,
   "metadata": {},
   "outputs": [
    {
     "name": "stdout",
     "output_type": "stream",
     "text": [
      "A: {2, 3, 5, 9, 10}\n",
      "B: {0, 1, 4, 5, 10}\n",
      "C: {10, 5}\n"
     ]
    }
   ],
   "source": [
    "from random import randint\n",
    "\n",
    "A = [randint(0, 9+1) for _ in range(1, randint(1, 9)+1)]\n",
    "B = [randint(0, 9+1) for _ in range(1, randint(1, 9)+1)]\n",
    "\n",
    "A = set(A)\n",
    "B = set(B)\n",
    "\n",
    "C = A.intersection(B)\n",
    "\n",
    "print('A:', A)\n",
    "print('B:', B)\n",
    "print('C:', C)\n",
    "\n"
   ]
  },
  {
   "cell_type": "markdown",
   "metadata": {},
   "source": [
    "# Используя алгоритм «*решето Эратосфена*, найти все простые числа из промежутка $[2, n]$\n",
    "\n",
    "**Алгоритм**:\n",
    "1. создать исходное множество натуральных чисел\n",
    "2. создать пустое множество простых чисел\n",
    "3. в переменную nxt поместить первое простое число\n",
    "4. пока ⟨исходное множество не пусто⟩ делать\n",
    "    1. добавить в множество простых чисел текущее простое число nxt\n",
    "    2. удалить из множества натуральных чисел все кратные nxt\n",
    "    3. получить следующее простое число — новое значение nxt (первое, остав­шееся в исходном множестве после выполнения 4.2)"
   ]
  },
  {
   "cell_type": "code",
   "execution_count": 31,
   "metadata": {},
   "outputs": [
    {
     "name": "stdout",
     "output_type": "stream",
     "text": [
      "benis\n",
      "benis\n",
      "benis\n",
      "benis\n",
      "benis\n",
      "benis\n",
      "benis\n",
      "benis\n",
      "benis\n",
      "benis\n",
      "benis\n",
      "benis\n",
      "benis\n",
      "benis\n",
      "benis\n",
      "benis\n",
      "benis\n",
      "benis\n",
      "benis\n",
      "benis\n",
      "benis\n",
      "benis\n",
      "benis\n",
      "benis\n",
      "benis\n",
      "benis\n",
      "benis\n",
      "benis\n",
      "benis\n",
      "benis\n",
      "benis\n",
      "benis\n",
      "benis\n",
      "benis\n",
      "benis\n",
      "benis\n",
      "benis\n",
      "benis\n",
      "benis\n",
      "benis\n",
      "benis\n",
      "benis\n",
      "benis\n",
      "benis\n",
      "benis\n",
      "benis\n",
      "benis\n",
      "benis\n",
      "benis\n",
      "benis\n",
      "benis\n",
      "benis\n",
      "benis\n",
      "benis\n",
      "benis\n",
      "benis\n",
      "benis\n",
      "benis\n",
      "benis\n",
      "benis\n",
      "benis\n",
      "benis\n",
      "benis\n",
      "benis\n",
      "benis\n",
      "benis\n",
      "benis\n",
      "benis\n",
      "benis\n",
      "benis\n",
      "benis\n",
      "benis\n",
      "benis\n",
      "benis\n",
      "benis\n",
      "benis\n",
      "benis\n",
      "benis\n",
      "benis\n",
      "benis\n",
      "benis\n",
      "benis\n",
      "benis\n",
      "benis\n",
      "benis\n",
      "benis\n",
      "benis\n",
      "benis\n",
      "benis\n",
      "benis\n",
      "benis\n",
      "benis\n",
      "benis\n",
      "benis\n",
      "benis\n",
      "benis\n",
      "benis\n",
      "benis\n",
      "benis\n",
      "benis\n",
      "benis\n",
      "benis\n",
      "benis\n",
      "benis\n",
      "benis\n",
      "benis\n",
      "benis\n",
      "benis\n",
      "benis\n",
      "benis\n",
      "benis\n",
      "benis\n",
      "benis\n",
      "benis\n",
      "benis\n",
      "benis\n",
      "benis\n",
      "benis\n",
      "benis\n",
      "benis\n",
      "benis\n",
      "benis\n",
      "benis\n",
      "benis\n",
      "benis\n",
      "benis\n",
      "benis\n",
      "benis\n",
      "benis\n",
      "benis\n",
      "benis\n",
      "benis\n",
      "benis\n",
      "benis\n",
      "benis\n",
      "benis\n",
      "benis\n",
      "benis\n",
      "benis\n",
      "benis\n",
      "benis\n",
      "benis\n",
      "benis\n",
      "benis\n",
      "benis\n",
      "benis\n",
      "benis\n",
      "benis\n",
      "benis\n",
      "benis\n",
      "benis\n",
      "benis\n",
      "benis\n",
      "benis\n",
      "benis\n",
      "benis\n",
      "benis\n",
      "benis\n",
      "benis\n",
      "benis\n",
      "benis\n",
      "benis\n",
      "benis\n",
      "benis\n",
      "benis\n",
      "benis\n",
      "benis\n",
      "benis\n",
      "benis\n",
      "benis\n",
      "benis\n",
      "benis\n",
      "benis\n",
      "benis\n",
      "benis\n",
      "benis\n",
      "benis\n",
      "benis\n",
      "benis\n",
      "benis\n",
      "benis\n",
      "benis\n",
      "benis\n",
      "benis\n",
      "benis\n",
      "benis\n",
      "benis\n",
      "benis\n",
      "benis\n",
      "benis\n",
      "benis\n",
      "benis\n",
      "benis\n",
      "benis\n",
      "benis\n",
      "benis\n",
      "benis\n",
      "benis\n",
      "benis\n",
      "benis\n",
      "benis\n",
      "benis\n",
      "benis\n",
      "benis\n",
      "benis\n",
      "benis\n",
      "benis\n",
      "benis\n",
      "benis\n",
      "benis\n",
      "benis\n",
      "benis\n",
      "benis\n",
      "benis\n",
      "benis\n",
      "benis\n",
      "benis\n",
      "benis\n",
      "benis\n",
      "benis\n",
      "benis\n",
      "benis\n",
      "benis\n",
      "benis\n",
      "benis\n",
      "benis\n",
      "benis\n",
      "benis\n"
     ]
    }
   ],
   "source": [
    "def benis():\n",
    "    return 'benis'\n",
    "\n",
    "\n",
    "for i in range(228):\n",
    "    print(benis())"
   ]
  }
 ],
 "metadata": {
  "interpreter": {
   "hash": "6c8c2e98f0f10df17ecf2617975944826424b21b2e4d0d92a9a3e08a72e97105"
  },
  "kernelspec": {
   "display_name": "Python 3.9.7 ('base')",
   "language": "python",
   "name": "python3"
  },
  "language_info": {
   "codemirror_mode": {
    "name": "ipython",
    "version": 3
   },
   "file_extension": ".py",
   "mimetype": "text/x-python",
   "name": "python",
   "nbconvert_exporter": "python",
   "pygments_lexer": "ipython3",
   "version": "3.9.7"
  },
  "orig_nbformat": 4
 },
 "nbformat": 4,
 "nbformat_minor": 2
}
