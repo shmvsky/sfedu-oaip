{
 "cells": [
  {
   "cell_type": "code",
   "execution_count": 68,
   "metadata": {},
   "outputs": [
    {
     "name": "stdout",
     "output_type": "stream",
     "text": [
      "Норма1: 3.742                Норма2: 12.207\n",
      "cross: [-5 10 -5]            dot: 44\n",
      "min1: 1                      min2: 6\n",
      "max1: 3                      max2: 8\n",
      "mean1: 2.0                   mean2: 7.0\n",
      "var1: 0.667                  var2: 0.667\n",
      "std1: 0.816                  std2: 0.816\n"
     ]
    }
   ],
   "source": [
    "import numpy as np\n",
    "\n",
    "v1 = np.array([1,2,3])\n",
    "v2 = np.array([6,7,8])\n",
    "\n",
    "norm1 = np.linalg.norm(v1)\n",
    "norm2 = np.linalg.norm(v2)\n",
    "\n",
    "cross = np.cross(v1, v2)\n",
    "\n",
    "dot = np.dot(v1, v2)\n",
    "\n",
    "min1 = v1.min()\n",
    "min2 = v2.min()\n",
    "\n",
    "max1 = v1.max()\n",
    "max2 = v2.max()\n",
    "\n",
    "mean1 = v1.mean()\n",
    "mean2 = v2.mean()\n",
    "\n",
    "var1 = v1.var()\n",
    "var2 = v2.var()\n",
    "\n",
    "std1 = v1.std()\n",
    "std2 = v2.std()\n",
    "\n",
    "print(f\"Норма1: {norm1 :<.3f}                Норма2: {norm2 :<.3f}\")\n",
    "print(f\"cross: {cross}            dot: {dot}\")\n",
    "print(f\"min1: {min1}                      min2: {min2}\")\n",
    "print(f\"max1: {max1}                      max2: {max2}\")\n",
    "print(f\"mean1: {mean1}                   mean2: {mean2}\")\n",
    "print(f\"var1: {var1 :<.3f}                  var2: {var2 :<.3f}\")\n",
    "print(f\"std1: {std1 :<.3f}                  std2: {std2 :<.3f}\")"
   ]
  },
  {
   "cell_type": "markdown",
   "metadata": {},
   "source": [
    "# **#2** Определить и вывести на экран три прямоугольные матрицы, заполнив одну из них случайными числами, а две другие — используя функцию *fromfunction*(), выбрав два закона:"
   ]
  },
  {
   "cell_type": "code",
   "execution_count": 81,
   "metadata": {},
   "outputs": [],
   "source": [
    "mtrx1 = np.random.normal(size=(2,3))\n",
    "mtrx2 = np.fromfunction(lambda i, j: i*i, shape=(7,10))\n",
    "mtrx3 = np.fromfunction(lambda i, j: i+i-5, shape=(7,10))"
   ]
  },
  {
   "cell_type": "markdown",
   "metadata": {},
   "source": [
    "# **#3** Найти и вывести на экран для каждой матрицы: след матрицы и транспонированную матрицу, проверить свойство диагонального преобладания"
   ]
  },
  {
   "cell_type": "code",
   "execution_count": 106,
   "metadata": {},
   "outputs": [
    {
     "name": "stdout",
     "output_type": "stream",
     "text": [
      "[[ 0.31248584 -0.1973165 ]\n",
      " [ 0.27946438  0.29367914]\n",
      " [ 1.19091909 -1.90702508]]\n",
      "\n",
      "[[ 0.  1.  4.  9. 16. 25. 36.]\n",
      " [ 0.  1.  4.  9. 16. 25. 36.]\n",
      " [ 0.  1.  4.  9. 16. 25. 36.]\n",
      " [ 0.  1.  4.  9. 16. 25. 36.]\n",
      " [ 0.  1.  4.  9. 16. 25. 36.]\n",
      " [ 0.  1.  4.  9. 16. 25. 36.]\n",
      " [ 0.  1.  4.  9. 16. 25. 36.]\n",
      " [ 0.  1.  4.  9. 16. 25. 36.]\n",
      " [ 0.  1.  4.  9. 16. 25. 36.]\n",
      " [ 0.  1.  4.  9. 16. 25. 36.]]\n",
      "\n",
      "[[-5. -3. -1.  1.  3.  5.  7.]\n",
      " [-5. -3. -1.  1.  3.  5.  7.]\n",
      " [-5. -3. -1.  1.  3.  5.  7.]\n",
      " [-5. -3. -1.  1.  3.  5.  7.]\n",
      " [-5. -3. -1.  1.  3.  5.  7.]\n",
      " [-5. -3. -1.  1.  3.  5.  7.]\n",
      " [-5. -3. -1.  1.  3.  5.  7.]\n",
      " [-5. -3. -1.  1.  3.  5.  7.]\n",
      " [-5. -3. -1.  1.  3.  5.  7.]\n",
      " [-5. -3. -1.  1.  3.  5.  7.]]\n",
      "\n",
      "0.6061649724515998\n",
      "91.0\n",
      "7.0\n",
      "\n",
      "[False False]\n",
      "[False False False False False False False]\n",
      "[False False False False False False False]\n"
     ]
    }
   ],
   "source": [
    "print(mtrx1.T, end='\\n\\n')\n",
    "print(mtrx2.T, end='\\n\\n')\n",
    "print(mtrx3.T, end='\\n\\n')\n",
    "\n",
    "print(mtrx1.trace())\n",
    "print(mtrx2.trace())\n",
    "print(mtrx3.trace(), end='\\n\\n')\n",
    "\n",
    "print(abs(mtrx1).sum(axis=1) < abs(mtrx1.diagonal()))\n",
    "print(abs(mtrx2).sum(axis=1) < abs(mtrx2.diagonal()))\n",
    "print(abs(mtrx3).sum(axis=1) < abs(mtrx3.diagonal()))"
   ]
  }
 ],
 "metadata": {
  "interpreter": {
   "hash": "f1a342ae37571f9e794b874db8ad3e31019c8e08bedd24f67bf666cd15f7bed6"
  },
  "kernelspec": {
   "display_name": "Python 3.10.4 ('sfedu_oaip-pFu5sytp')",
   "language": "python",
   "name": "python3"
  },
  "language_info": {
   "codemirror_mode": {
    "name": "ipython",
    "version": 3
   },
   "file_extension": ".py",
   "mimetype": "text/x-python",
   "name": "python",
   "nbconvert_exporter": "python",
   "pygments_lexer": "ipython3",
   "version": "3.10.4"
  },
  "orig_nbformat": 4
 },
 "nbformat": 4,
 "nbformat_minor": 2
}
