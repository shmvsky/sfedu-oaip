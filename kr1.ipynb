{
 "cells": [
  {
   "cell_type": "markdown",
   "metadata": {},
   "source": [
    "# Задание 2 с матрицей"
   ]
  },
  {
   "cell_type": "code",
   "execution_count": 6,
   "metadata": {},
   "outputs": [],
   "source": [
    "from random import randint"
   ]
  },
  {
   "cell_type": "markdown",
   "metadata": {},
   "source": [
    "## 2.1"
   ]
  },
  {
   "cell_type": "code",
   "execution_count": 4,
   "metadata": {},
   "outputs": [],
   "source": [
    "def new_mtrx():\n",
    "    print('Введите размерность матрицы.')\n",
    "    N = int(input('Введите 0, если хотите использовать параметры по умолчанию: '))\n",
    "    if not N:\n",
    "        N = 1\n",
    "    print(f'Вы выбрали матрицу размером {N}x{N}')\n",
    "    print('-'*30)\n",
    "    return [[randint(-3*N, 3*N) for j in range(N)] for i in range(N)]"
   ]
  },
  {
   "cell_type": "markdown",
   "metadata": {},
   "source": [
    "## 2.2"
   ]
  },
  {
   "cell_type": "code",
   "execution_count": 2,
   "metadata": {},
   "outputs": [],
   "source": [
    "def display_mtrx(a):\n",
    "    for i in range(len(a)):\n",
    "        for j in range(len(a[i])):\n",
    "            print('%5d' % (a[i][j]), end=' ')\n",
    "        print()\n",
    "    print('-'*30)"
   ]
  },
  {
   "cell_type": "markdown",
   "metadata": {},
   "source": [
    "# 2.3"
   ]
  },
  {
   "cell_type": "code",
   "execution_count": 54,
   "metadata": {},
   "outputs": [],
   "source": [
    "def has_even_row(mtrx):\n",
    "    for row in mtrx:\n",
    "        row_is_even = True\n",
    "        for n in row:\n",
    "            if n%2!=0:\n",
    "                row_is_even = False\n",
    "        if row_is_even:\n",
    "            return True\n",
    "    return False"
   ]
  },
  {
   "cell_type": "markdown",
   "metadata": {},
   "source": [
    "## 2.4"
   ]
  },
  {
   "cell_type": "markdown",
   "metadata": {},
   "source": [
    "### 2.4.1"
   ]
  },
  {
   "cell_type": "code",
   "execution_count": 83,
   "metadata": {},
   "outputs": [],
   "source": [
    "def mx_kratny_3_search(mtrx):\n",
    "    N = len(mtrx)\n",
    "    mx_kratiny_3 = 0\n",
    "    col = None\n",
    "    for i in range(N):\n",
    "        for j in range(N):\n",
    "            n = mtrx[i][j]\n",
    "            if n%3==0 and abs(n)>mx_kratiny_3:\n",
    "                mx_kratiny_3 = abs(n)\n",
    "                col = j\n",
    "    if mx_kratiny_3:\n",
    "        print(f'Максимальный по модулю элемент, кратный 3, равен: {mx_kratiny_3}. Номер столбца: {col}')\n",
    "        return mx_kratiny_3, col\n",
    "\n",
    "def mx_kratny_3_col_replace(mtrx, j):\n",
    "    N = len(mtrx)\n",
    "    for i in range(N):\n",
    "        mtrx[i][-1], mtrx[i][j] = mtrx[i][j], mtrx[i][-1]\n",
    "    return mtrx\n",
    "\n",
    "\n",
    "def modify_mtrx(mtrx):\n",
    "    mx_kratnyi_3, coords = mx_kratny_3_search(mtrx)\n",
    "    print()\n",
    "    new_mtrx = mx_kratny_3_col_replace(mtrx, coords)\n",
    "    display_mtrx(new_mtrx, 'Новая матрциа:')"
   ]
  },
  {
   "cell_type": "code",
   "execution_count": 85,
   "metadata": {},
   "outputs": [
    {
     "name": "stdout",
     "output_type": "stream",
     "text": [
      "Введите размерность матрицы.\n",
      "Вы выбрали матрицу размером 4x4\n",
      "------------------------------\n",
      "Получена матрица:\n",
      "    4     2    -8    -9 \n",
      "    6    -6     2    -1 \n",
      "    4     4    -8     2 \n",
      "   -7     5    12    -2 \n",
      "------------------------------\n",
      "Есть строка, состоящая только из четных чисел? True.\n",
      "------------------------------\n",
      "Максимальный по модулю элемент, кратный 3, равен: 12. Номер столбца: 2\n",
      "\n",
      "Новая матрциа:\n",
      "    4     2    -9    -8 \n",
      "    6    -6    -1     2 \n",
      "    4     4     2    -8 \n",
      "   -7     5    -2    12 \n",
      "------------------------------\n"
     ]
    }
   ],
   "source": [
    "mtrx = new_mtrx()\n",
    "display_mtrx(mtrx, 'Получена матрица:')\n",
    "print(f'Есть строка, состоящая только из четных чисел? {has_even_row(mtrx)}.')\n",
    "print('-'*30)\n",
    "modify_mtrx(mtrx)\n",
    "\n"
   ]
  }
 ],
 "metadata": {
  "interpreter": {
   "hash": "c94e8836f7032e9a074dbc235d1c1c8ba204952e3223139acb686e19bf21a5b3"
  },
  "kernelspec": {
   "display_name": "Python 3.10.0 64-bit",
   "language": "python",
   "name": "python3"
  },
  "language_info": {
   "codemirror_mode": {
    "name": "ipython",
    "version": 3
   },
   "file_extension": ".py",
   "mimetype": "text/x-python",
   "name": "python",
   "nbconvert_exporter": "python",
   "pygments_lexer": "ipython3",
   "version": "3.10.4"
  },
  "orig_nbformat": 4
 },
 "nbformat": 4,
 "nbformat_minor": 2
}
