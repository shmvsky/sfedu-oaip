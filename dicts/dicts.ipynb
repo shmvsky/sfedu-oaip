{
 "cells": [
  {
   "cell_type": "markdown",
   "metadata": {},
   "source": [
    "#  **#1** С клавиатуры вводится число $n ∈ N$. Сформируйте список из $n$ чисел случайным образом. Определить словарь, где ключ это само число, <br> а значение – строка \"чётное\"или \"нечётное\"\n"
   ]
  },
  {
   "cell_type": "code",
   "execution_count": 18,
   "metadata": {},
   "outputs": [
    {
     "name": "stdout",
     "output_type": "stream",
     "text": [
      "{66: 'чётное', 72: 'чётное', 13: 'нечётное', 44: 'чётное', 60: 'чётное', 67: 'нечётное', 2: 'чётное', 23: 'нечётное', 84: 'чётное', 58: 'чётное', 19: 'нечётное', 36: 'чётное', 56: 'чётное', 11: 'нечётное'}\n"
     ]
    }
   ],
   "source": [
    "from random import randint\n",
    "\n",
    "\n",
    "n = int(input('n: '))\n",
    "\n",
    "random_ns = [randint(0, 99) for i in range(n)]\n",
    "amogus = {}\n",
    "for k in random_ns:\n",
    "    amogus.update({k:'чётное' if k%2==0 else 'нечётное'})\n",
    "\n",
    "\n",
    "print(amogus)"
   ]
  },
  {
   "cell_type": "markdown",
   "metadata": {},
   "source": [
    "# **#2** С клавиатуры вводится строка, состоящая из латинских букв и цифр. Определить словарь, где ключ это символ строки, а значение – его ASCII код"
   ]
  },
  {
   "cell_type": "code",
   "execution_count": 19,
   "metadata": {},
   "outputs": [
    {
     "name": "stdout",
     "output_type": "stream",
     "text": [
      "{'j': 106, 'a': 97, 'k': 107, 's': 115, 'd': 100, 'g': 103, 'h': 104, '_': 95}\n"
     ]
    }
   ],
   "source": [
    "string = input('введите строку: ')\n",
    "\n",
    "char_code = {}\n",
    "\n",
    "for char in string:\n",
    "    char_code.update({char:ord(char)})\n",
    "\n",
    "\n",
    "print(char_code)"
   ]
  },
  {
   "cell_type": "markdown",
   "metadata": {},
   "source": [
    "# **#3** С клавиатуры вводится строка, состоящая из слов, разделенных пробелами. Для каждого слова указать, сколько раз оно встречается в строке. Оформить в виде словаря.\n",
    "*Указание*: учесть, что одно и тоже слово может быть написано как с заглавной, так и со строчной\n",
    "буквы."
   ]
  },
  {
   "cell_type": "code",
   "execution_count": 21,
   "metadata": {},
   "outputs": [
    {
     "name": "stdout",
     "output_type": "stream",
     "text": [
      "{'aa': 3, 'a': 6, 'aaa': 2}\n"
     ]
    }
   ],
   "source": [
    "string = 'aa a a a a aa aa aaa a a Aaa' #input('введите строку: ')\n",
    "\n",
    "word_count = {}\n",
    "\n",
    "for word in string.split():\n",
    "    word_lower = word.lower()\n",
    "    if word_lower in word_count.keys():\n",
    "        word_count[word_lower] += 1\n",
    "    else:\n",
    "        word_count.update({word_lower:1})\n",
    "\n",
    "\n",
    "print(word_count)"
   ]
  },
  {
   "cell_type": "markdown",
   "metadata": {},
   "source": [
    "# **#4** Известны максимальные скорости $20$-ти моделей автомобилей (в $км/ч$). Определить и вывести на экран названия моделей, максимальная скорость которых превышает $180\\ км/ч$."
   ]
  },
  {
   "cell_type": "code",
   "execution_count": 27,
   "metadata": {},
   "outputs": [
    {
     "name": "stdout",
     "output_type": "stream",
     "text": [
      "Hyundai Creta\n",
      "KIA Optima\n",
      "KIA Sportage\n",
      "Mitsubishi Outlander\n",
      "Volkswagen Polo\n",
      "Renault Duster\n",
      "Hyundai Santa Fe\n",
      "BMW 5 Series\n",
      "Škoda Octavia\n",
      "KIA Sorento Prime\n",
      "KIA Cerato\n"
     ]
    }
   ],
   "source": [
    "from random import randint\n",
    "\n",
    "cars = ['Hyundai Solaris', 'Hyundai Creta', 'Škoda Kodiaq', 'KIA Optima', 'KIA Rio', 'KIA Sportage', 'Škoda Rapid', 'Mitsubishi Outlander', 'Volkswagen Tiguan', 'KIA Rio X-Line', 'Volkswagen Polo', 'Mazda CX-5', 'Hyundai Tucson', 'Renault Duster', 'Hyundai Santa Fe', 'BMW 5 Series', 'Škoda Octavia', 'KIA Sorento Prime', 'KIA Ceed SW', 'KIA Cerato']\n",
    "\n",
    "car_mxspeed = {}\n",
    "for car in cars:\n",
    "    car_mxspeed.update({car:randint(150, 229)})\n",
    "\n",
    "for car in car_mxspeed:\n",
    "    speed = car_mxspeed[car]\n",
    "    if speed > 180:\n",
    "        print(car)"
   ]
  },
  {
   "cell_type": "markdown",
   "metadata": {},
   "source": [
    "# **#5** Известны данные о $15$ учениках: фамилия, класс, оценка по информатике. Определить и вывести на экран фамилии учеников, имеющих оценку \"5\""
   ]
  },
  {
   "cell_type": "code",
   "execution_count": 47,
   "metadata": {},
   "outputs": [
    {
     "name": "stdout",
     "output_type": "stream",
     "text": [
      "second_name1\n",
      "second_name5\n",
      "second_name8\n",
      "second_name9\n",
      "second_name10\n",
      "second_name14\n"
     ]
    }
   ],
   "source": [
    "from random import choice\n",
    "\n",
    "grades = [grade for grade in range(1, 12)]\n",
    "marks = [mark for mark in range(1, 5+1)]\n",
    "\n",
    "second_name = [f'second_name{i}' for i in range(15)]\n",
    "grade = [choice(grades) for _ in range(15)]\n",
    "mark = [choice(marks) for _ in range(15)]\n",
    "\n",
    "students = {}\n",
    "for i in range(15):\n",
    "    students.update({second_name[i]:[grade[i], mark[i]]})\n",
    "\n",
    "for sn in students.keys():\n",
    "    this_student = students[sn]\n",
    "    if this_student[1] == 5:\n",
    "        print(sn)"
   ]
  },
  {
   "cell_type": "markdown",
   "metadata": {},
   "source": [
    "# **#7** Известны рост и пол $10$ человек. Найти средний рост всех мужчин. Рост и пол человека определять случайным образом"
   ]
  },
  {
   "cell_type": "code",
   "execution_count": 70,
   "metadata": {},
   "outputs": [
    {
     "name": "stdout",
     "output_type": "stream",
     "text": [
      "179.8\n"
     ]
    }
   ],
   "source": [
    "from random import randint, choice\n",
    "\n",
    "names = [f'name{i}' for i in range(10)]\n",
    "\n",
    "persons = {}\n",
    "for name in names:\n",
    "    persons.update(\n",
    "        {\n",
    "            name:{\n",
    "                'height': randint(150, 210), \n",
    "                'sex': choice(['male', 'female'])\n",
    "            }\n",
    "        }\n",
    "    )\n",
    "\n",
    "heights_sum = 0\n",
    "for pn in persons.keys():\n",
    "    heights_sum += persons[pn]['height']\n",
    "\n",
    "print(heights_sum/10)"
   ]
  },
  {
   "cell_type": "markdown",
   "metadata": {},
   "source": [
    "# **#8** Известны данные о массе и объеме $7$ предметов, изготовленных из различных материалов.\n",
    "* Вывести на экран плотность каждого из материалов\n",
    "* Определить материал с минимальной плотностью."
   ]
  },
  {
   "cell_type": "code",
   "execution_count": 16,
   "metadata": {},
   "outputs": [
    {
     "name": "stdout",
     "output_type": "stream",
     "text": [
      "0.24113475177304963\n",
      "0.13513513513513514\n",
      "1.5529411764705883\n",
      "0.13768115942028986\n",
      "2.7333333333333334\n",
      "2.8125\n",
      "1.2424242424242424\n",
      "\n",
      "0.13513513513513514\n"
     ]
    }
   ],
   "source": [
    "from random import randint\n",
    "\n",
    "items = {}\n",
    "\n",
    "for i in range(7):\n",
    "    items.update({i:{'mass':randint(12, 143), 'volume':randint(12, 143)}})\n",
    "\n",
    "min_density = float('inf')\n",
    "for val in items.values():\n",
    "    density = val['mass']/val['volume']\n",
    "    print(density)\n",
    "    if density < min_density:\n",
    "        min_density = density\n",
    "\n",
    "print()\n",
    "print(min_density)"
   ]
  },
  {
   "cell_type": "markdown",
   "metadata": {},
   "source": [
    "# **#9** Сформировать словарь, содержащий анкетные данные: *Имя*, *Фамилия*, *Год рождения*, *Пол*, *Место рождения*\n",
    "* Вывести на экран данные о всех людях в виде таблицы, используя форматный вывод\n",
    "* По введенной с клавиатуры фамилии выдать все данные из анкеты или сообщение, что данных о таком человеке нет\n"
   ]
  },
  {
   "cell_type": "code",
   "execution_count": 35,
   "metadata": {},
   "outputs": [],
   "source": [
    "from random import choice\n",
    "\n",
    "names = ['James','Mary','Robert','Patricia','John','Jennifer','Michael','Linda','William','Elizabeth']\n",
    "sexes = ['male', 'female']\n",
    "birthplaces = [f'birthplace_{i}' for i in range(10)]\n",
    "\n",
    "surnames = ['Adams', 'Wilson', 'Burton', 'Harris', 'Stevens', 'Robinson', 'Lewis', 'Walker', 'Payne', 'Baker']\n",
    "\n",
    "people = {}\n",
    "for surname in surnames:\n",
    "    people.update({\n",
    "        surname: {\n",
    "            'name': choice(names),\n",
    "            'sex': choice(sexes),\n",
    "            'birthplace': choice(birthplaces)\n",
    "        }\n",
    "    })"
   ]
  },
  {
   "cell_type": "code",
   "execution_count": 36,
   "metadata": {},
   "outputs": [
    {
     "data": {
      "text/plain": [
       "{'Adams': {'name': 'Patricia', 'sex': 'female', 'birthplace': 'birthplace_4'},\n",
       " 'Wilson': {'name': 'Elizabeth', 'sex': 'male', 'birthplace': 'birthplace_2'},\n",
       " 'Burton': {'name': 'John', 'sex': 'female', 'birthplace': 'birthplace_0'},\n",
       " 'Harris': {'name': 'John', 'sex': 'male', 'birthplace': 'birthplace_0'},\n",
       " 'Stevens': {'name': 'Jennifer',\n",
       "  'sex': 'female',\n",
       "  'birthplace': 'birthplace_9'},\n",
       " 'Robinson': {'name': 'James', 'sex': 'male', 'birthplace': 'birthplace_4'},\n",
       " 'Lewis': {'name': 'Linda', 'sex': 'female', 'birthplace': 'birthplace_1'},\n",
       " 'Walker': {'name': 'William', 'sex': 'male', 'birthplace': 'birthplace_8'},\n",
       " 'Payne': {'name': 'John', 'sex': 'female', 'birthplace': 'birthplace_7'},\n",
       " 'Baker': {'name': 'Jennifer', 'sex': 'male', 'birthplace': 'birthplace_8'}}"
      ]
     },
     "execution_count": 36,
     "metadata": {},
     "output_type": "execute_result"
    }
   ],
   "source": [
    "people"
   ]
  },
  {
   "cell_type": "code",
   "execution_count": 37,
   "metadata": {},
   "outputs": [],
   "source": [
    "def get_info(surname, dct):\n",
    "    try:\n",
    "        guy = dct[surname]\n",
    "        print('name:', guy['name'])\n",
    "        print('surname:', surname)\n",
    "        print('sex:', guy['sex'])\n",
    "        print('birthplace:', guy['birthplace'])\n",
    "    except KeyError:\n",
    "        print('Человека с такой фамилией не существует...')"
   ]
  },
  {
   "cell_type": "code",
   "execution_count": 40,
   "metadata": {},
   "outputs": [
    {
     "name": "stdout",
     "output_type": "stream",
     "text": [
      "name: Patricia\n",
      "surname: Adams\n",
      "sex: female\n",
      "birthplace: birthplace_4\n"
     ]
    }
   ],
   "source": [
    "get_info('Adams', people)"
   ]
  },
  {
   "cell_type": "markdown",
   "metadata": {},
   "source": [
    "# **10** Известны данные о $7$ товарах: `Наименование товара`, `Количество`, `Цена`, `Производитель`. `Количество` и `цена` определяются случайным образом\n",
    "* Вывести на экран сведения о товарах, `цена` которых выше средней;\n",
    "* Посчитать, какую прибыль принесли продажи каждого из товаров. Для этого добавить к каждому элементу вложенного словаря новое поле \"`profit`\". Определить и вывести на экран товар с наибольшей прибылью. Функцию $max()$ не использовать."
   ]
  },
  {
   "cell_type": "code",
   "execution_count": 80,
   "metadata": {},
   "outputs": [],
   "source": [
    "from random import randint, choice\n",
    "\n",
    "products_names = [f'pname_{i}' for i in range(7)]\n",
    "producers = [f'producer_{i}' for i in range(4)]\n",
    "\n",
    "products = {}\n",
    "for product_name in products_names:\n",
    "    products.update({\n",
    "        product_name : {\n",
    "            'producer' : choice(producers),\n",
    "            'count' : randint(0, 100),\n",
    "            'price' : randint(100, 10000),\n",
    "        }\n",
    "    })"
   ]
  },
  {
   "cell_type": "code",
   "execution_count": 81,
   "metadata": {},
   "outputs": [
    {
     "data": {
      "text/plain": [
       "{'pname_0': {'producer': 'producer_0', 'count': 68, 'price': 7718},\n",
       " 'pname_1': {'producer': 'producer_2', 'count': 28, 'price': 5586},\n",
       " 'pname_2': {'producer': 'producer_3', 'count': 14, 'price': 7690},\n",
       " 'pname_3': {'producer': 'producer_3', 'count': 4, 'price': 9947},\n",
       " 'pname_4': {'producer': 'producer_0', 'count': 2, 'price': 1248},\n",
       " 'pname_5': {'producer': 'producer_3', 'count': 80, 'price': 7544},\n",
       " 'pname_6': {'producer': 'producer_0', 'count': 34, 'price': 1708}}"
      ]
     },
     "execution_count": 81,
     "metadata": {},
     "output_type": "execute_result"
    }
   ],
   "source": [
    "products"
   ]
  },
  {
   "cell_type": "code",
   "execution_count": 87,
   "metadata": {},
   "outputs": [],
   "source": [
    "def bebrus(products):\n",
    "    sum_price = 0\n",
    "    for v in products.values():\n",
    "        sum_price += v['price']\n",
    "    mean_price = sum_price/7\n",
    "\n",
    "    print('Продукты, цена которых выше средней:')\n",
    "    for k in products.keys():\n",
    "        product_price = products[k]['price']\n",
    "        if product_price > mean_price:\n",
    "            product = products[k]\n",
    "            print('product name:', k)\n",
    "            print('price:', product_price)\n",
    "            print('count:', product['producer'])\n",
    "            print('count:', product['producer'])\n",
    "            print()\n",
    "    \n",
    "    mx_profit = 0\n",
    "    mx_profit_name = ''\n",
    "    for k in products.keys():\n",
    "        profit = products[k]['count']*products[k]['price']\n",
    "        products[k].update({'profit':profit})\n",
    "        if profit > mx_profit:\n",
    "            mx_profit = profit\n",
    "            mx_profit_name = k\n",
    "    \n",
    "    print()\n",
    "    print('Товар с наибольшей выгодой:')\n",
    "    print(mx_profit_name)\n",
    "\n",
    "    return products"
   ]
  },
  {
   "cell_type": "code",
   "execution_count": 88,
   "metadata": {},
   "outputs": [
    {
     "name": "stdout",
     "output_type": "stream",
     "text": [
      "Продукты, цена которых выше средней:\n",
      "product name: pname_0\n",
      "price: 7718\n",
      "count: producer_0\n",
      "count: producer_0\n",
      "\n",
      "product name: pname_2\n",
      "price: 7690\n",
      "count: producer_3\n",
      "count: producer_3\n",
      "\n",
      "product name: pname_3\n",
      "price: 9947\n",
      "count: producer_3\n",
      "count: producer_3\n",
      "\n",
      "product name: pname_5\n",
      "price: 7544\n",
      "count: producer_3\n",
      "count: producer_3\n",
      "\n",
      "\n",
      "Товар с наибольшей выгодой:\n",
      "pname_5\n"
     ]
    }
   ],
   "source": [
    "awdaw = bebrus(products)"
   ]
  },
  {
   "cell_type": "code",
   "execution_count": 89,
   "metadata": {},
   "outputs": [
    {
     "data": {
      "text/plain": [
       "{'pname_0': {'producer': 'producer_0',\n",
       "  'count': 68,\n",
       "  'price': 7718,\n",
       "  'profit': 524824},\n",
       " 'pname_1': {'producer': 'producer_2',\n",
       "  'count': 28,\n",
       "  'price': 5586,\n",
       "  'profit': 156408},\n",
       " 'pname_2': {'producer': 'producer_3',\n",
       "  'count': 14,\n",
       "  'price': 7690,\n",
       "  'profit': 107660},\n",
       " 'pname_3': {'producer': 'producer_3',\n",
       "  'count': 4,\n",
       "  'price': 9947,\n",
       "  'profit': 39788},\n",
       " 'pname_4': {'producer': 'producer_0',\n",
       "  'count': 2,\n",
       "  'price': 1248,\n",
       "  'profit': 2496},\n",
       " 'pname_5': {'producer': 'producer_3',\n",
       "  'count': 80,\n",
       "  'price': 7544,\n",
       "  'profit': 603520},\n",
       " 'pname_6': {'producer': 'producer_0',\n",
       "  'count': 34,\n",
       "  'price': 1708,\n",
       "  'profit': 58072}}"
      ]
     },
     "execution_count": 89,
     "metadata": {},
     "output_type": "execute_result"
    }
   ],
   "source": [
    "awdaw"
   ]
  }
 ],
 "metadata": {
  "interpreter": {
   "hash": "f1a342ae37571f9e794b874db8ad3e31019c8e08bedd24f67bf666cd15f7bed6"
  },
  "kernelspec": {
   "display_name": "Python 3 (ipykernel)",
   "language": "python",
   "name": "python3"
  },
  "language_info": {
   "codemirror_mode": {
    "name": "ipython",
    "version": 3
   },
   "file_extension": ".py",
   "mimetype": "text/x-python",
   "name": "python",
   "nbconvert_exporter": "python",
   "pygments_lexer": "ipython3",
   "version": "3.9.7"
  }
 },
 "nbformat": 4,
 "nbformat_minor": 2
}
