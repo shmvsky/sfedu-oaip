{
 "cells": [
  {
   "cell_type": "markdown",
   "metadata": {},
   "source": [
    "# Дано $x \\in \\mathbb{R}$, $m \\in \\mathbb{N}$. Вычислить $x^m$"
   ]
  },
  {
   "cell_type": "code",
   "execution_count": 2,
   "metadata": {},
   "outputs": [
    {
     "name": "stdout",
     "output_type": "stream",
     "text": [
      "x: 0   m: 11  power(x, m): 0         \n",
      "x: 0   m: 3   power(x, m): 0         \n",
      "x: 0   m: 5   power(x, m): 0         \n",
      "x: 1   m: 11  power(x, m): 1         \n",
      "x: 1   m: 3   power(x, m): 1         \n",
      "x: 1   m: 5   power(x, m): 1         \n",
      "x: 2   m: 11  power(x, m): 2048      \n",
      "x: 2   m: 3   power(x, m): 8         \n",
      "x: 2   m: 5   power(x, m): 32        \n",
      "x: 3   m: 11  power(x, m): 177147    \n",
      "x: 3   m: 3   power(x, m): 27        \n",
      "x: 3   m: 5   power(x, m): 243       \n",
      "x: 4   m: 11  power(x, m): 4194304   \n",
      "x: 4   m: 3   power(x, m): 64        \n",
      "x: 4   m: 5   power(x, m): 1024      \n",
      "x: 5   m: 11  power(x, m): 48828125  \n",
      "x: 5   m: 3   power(x, m): 125       \n",
      "x: 5   m: 5   power(x, m): 3125      \n",
      "x: 6   m: 11  power(x, m): 362797056 \n",
      "x: 6   m: 3   power(x, m): 216       \n",
      "x: 6   m: 5   power(x, m): 7776      \n",
      "x: 7   m: 11  power(x, m): 1977326743\n",
      "x: 7   m: 3   power(x, m): 343       \n",
      "x: 7   m: 5   power(x, m): 16807     \n",
      "x: 8   m: 11  power(x, m): 8589934592\n",
      "x: 8   m: 3   power(x, m): 512       \n",
      "x: 8   m: 5   power(x, m): 32768     \n",
      "x: 9   m: 11  power(x, m): 31381059609\n",
      "x: 9   m: 3   power(x, m): 729       \n",
      "x: 9   m: 5   power(x, m): 59049     \n"
     ]
    }
   ],
   "source": [
    "def power(base, exp):\n",
    "    if exp == 1:\n",
    "        return base\n",
    "    if exp != 1:\n",
    "        return base * power(base, exp-1)\n",
    "\n",
    "\n",
    "for x in range(0, 9+1):\n",
    "    for m in [11, 3, 5]:\n",
    "        print(f'x: {x :<3d} m: {m :<3d} power(x, m): {power(x, m) :<10d}')"
   ]
  },
  {
   "cell_type": "markdown",
   "metadata": {},
   "source": [
    "# Вывести все числа от 1 до $N$ в строку."
   ]
  },
  {
   "cell_type": "code",
   "execution_count": 15,
   "metadata": {},
   "outputs": [
    {
     "name": "stdout",
     "output_type": "stream",
     "text": [
      " 1\n",
      " 1 2\n",
      " 1 2 3\n",
      " 1 2 3 4\n",
      " 1 2 3 4 5\n",
      " 1 2 3 4 5 6\n",
      " 1 2 3 4 5 6 7\n",
      " 1 2 3 4 5 6 7 8\n",
      " 1 2 3 4 5 6 7 8 9\n",
      " 1 2 3 4 5 6 7 8 9 10\n",
      " 1 2 3 4 5 6 7 8 9 10 11\n"
     ]
    }
   ],
   "source": [
    "def aboba(end, start=1, string=''):\n",
    "    string+=' '+str(start)\n",
    "    if start == end:\n",
    "        return string\n",
    "    return aboba(end=end, start=start+1, string=string)\n",
    "\n",
    "\n",
    "\n",
    "for N in range(1, 11+1):\n",
    "    print(aboba(N))"
   ]
  },
  {
   "cell_type": "markdown",
   "metadata": {},
   "source": [
    "# Дано два числа $A$ и $B$. Вывести в одну строку все числа от $A$ до $B$ включительно в порядке возрастания, если $A < B$, или в порядке убывания в противном случае.\n"
   ]
  },
  {
   "cell_type": "code",
   "execution_count": 27,
   "metadata": {},
   "outputs": [
    {
     "name": "stdout",
     "output_type": "stream",
     "text": [
      "2 3 4 5 6 7 8 9 10 11 \n"
     ]
    }
   ],
   "source": [
    "def amogus(A, B, string=''):\n",
    "    if A <= B:\n",
    "        string += str(A) + ' '\n",
    "        if A == B:\n",
    "            return string\n",
    "        return amogus(A+1, B, string=string)\n",
    "    else:\n",
    "        string += str(A) + ' '\n",
    "        if A == B:\n",
    "            return string\n",
    "        return amogus(A-1, B, string=string)\n",
    "\n",
    "\n",
    "print(amogus(2, 11))"
   ]
  },
  {
   "cell_type": "markdown",
   "metadata": {},
   "source": [
    "# Для двух натуральных чисел $m$, $n$ найти $НОД(m, n)$, используя рекурсивный алгоритм Евклида."
   ]
  },
  {
   "cell_type": "code",
   "execution_count": 37,
   "metadata": {},
   "outputs": [
    {
     "data": {
      "text/plain": [
       "1"
      ]
     },
     "execution_count": 37,
     "metadata": {},
     "output_type": "execute_result"
    }
   ],
   "source": [
    "def euclid(a, b):\n",
    "    if a == b:\n",
    "        return a\n",
    "    if a > b:\n",
    "        tmp = a\n",
    "        a = b\n",
    "        b = tmp\n",
    "    return euclid(a, b - a)\n",
    "\n",
    "\n",
    "euclid(10, 71)"
   ]
  },
  {
   "cell_type": "markdown",
   "metadata": {},
   "source": [
    "# Дана строка. Проверить, верно ли, что в строке есть хотя бы один из знаков арифметических операций: $+$, $-$, $*$, $/$"
   ]
  },
  {
   "cell_type": "code",
   "execution_count": 18,
   "metadata": {},
   "outputs": [
    {
     "name": "stdout",
     "output_type": "stream",
     "text": [
      "False\n"
     ]
    }
   ],
   "source": [
    "def morgen(string, i=0):\n",
    "    arithmetic_operations = ['+','-','*','/']\n",
    "    if i == len(string):\n",
    "        return False\n",
    "    return (string[i] in arithmetic_operations) or morgen(string=string, i=i+1)\n",
    "\n",
    "\n",
    "\n",
    "print(morgen('qwertyuiop'))"
   ]
  },
  {
   "cell_type": "markdown",
   "metadata": {},
   "source": [
    "# Дан список целых чисел $a$. Проверить, что все ли его элементы – чётные."
   ]
  },
  {
   "cell_type": "code",
   "execution_count": 31,
   "metadata": {},
   "outputs": [
    {
     "name": "stdout",
     "output_type": "stream",
     "text": [
      "[4, 4, 4]\n"
     ]
    },
    {
     "data": {
      "text/plain": [
       "True"
      ]
     },
     "execution_count": 31,
     "metadata": {},
     "output_type": "execute_result"
    }
   ],
   "source": [
    "from random import randint\n",
    "a = [randint(0, 9) for i in range(3)]\n",
    "\n",
    "\n",
    "def molodoi_aristocrat(a):\n",
    "    if not len(a): #эквивалентно len(a) == 0\n",
    "        return True\n",
    "    else:\n",
    "        return a[0]%2==0 and molodoi_aristocrat(a[1::])\n",
    "\n",
    "print(a)\n",
    "molodoi_aristocrat(a)"
   ]
  },
  {
   "cell_type": "markdown",
   "metadata": {},
   "source": [
    "# Дан список целых чисел a длины $N$, заполненный случайным образом. Проверить, что числа в списке образуют невозрастающую последовательность."
   ]
  },
  {
   "cell_type": "code",
   "execution_count": 116,
   "metadata": {},
   "outputs": [
    {
     "name": "stdout",
     "output_type": "stream",
     "text": [
      "[9, 8] True\n"
     ]
    }
   ],
   "source": [
    "from random import randint\n",
    "\n",
    "\n",
    "def pushka(a, prev_elem=0):\n",
    "    if len(a) == 0:\n",
    "        return False\n",
    "    return a[0]<=prev_elem or pushka(a[1::], a[0])\n",
    "\n",
    "\n",
    "N = int(input('N: '))\n",
    "a = [randint(0, 9) for i in range(N)]\n",
    "\n",
    "\n",
    "print(a, pushka(a))"
   ]
  },
  {
   "cell_type": "markdown",
   "metadata": {},
   "source": [
    "# Дано натуральное число $N$. Вычислить максимальную цифру в его восьмеричной записи"
   ]
  },
  {
   "cell_type": "code",
   "execution_count": 130,
   "metadata": {},
   "outputs": [
    {
     "name": "stdout",
     "output_type": "stream",
     "text": [
      "11111911 0o52306747 7\n"
     ]
    }
   ],
   "source": [
    "def loverboy(N, mx_8=0):\n",
    "    if N==0:\n",
    "        return mx_8\n",
    "    return loverboy(N//8, N%8 if N%8 > mx_8 else mx_8)\n",
    "\n",
    "\n",
    "\n",
    "N = int(input('N: '))\n",
    "\n",
    "print(N, oct(N), loverboy(N))"
   ]
  },
  {
   "cell_type": "markdown",
   "metadata": {},
   "source": [
    "# Даны натуральные числа $N$ и $b$ ($2 <= b <= 16$). Реализовать перевод числа $N$ из десятичной системы в систему счисления с основанием $b$"
   ]
  },
  {
   "cell_type": "code",
   "execution_count": 10,
   "metadata": {},
   "outputs": [
    {
     "name": "stdout",
     "output_type": "stream",
     "text": [
      "N:217392173, b:16, N_b:CF5242D, in_bin:0b1100111101010010010000101101, in_oct:0o1475222055, in_hex:0xcf5242d\n"
     ]
    }
   ],
   "source": [
    "def kto_ubil_marka(N, b, N_b=''):\n",
    "    if N==0:\n",
    "        return N_b[::-1]\n",
    "    if b == 16:\n",
    "        bolshe_9 = ['A', 'B', 'C', 'D', 'E', 'F']\n",
    "        return kto_ubil_marka(N//b, b, N_b+str(N%b) if N%b<10 else N_b+bolshe_9[N%b%10])\n",
    "    return kto_ubil_marka(N//b, b, N_b+str(N%b))\n",
    "\n",
    "\n",
    "N = int(input('N: '))\n",
    "b = int(input('b: '))\n",
    "\n",
    "print(f'N:{N :>5d}, b:{b :>2d}, N_b:{kto_ubil_marka(N, b)}, in_bin:{bin(N)}, in_oct:{oct(N)}, in_hex:{hex(N)}')"
   ]
  },
  {
   "cell_type": "markdown",
   "metadata": {},
   "source": [
    "# Даны два натуральных числа $N$ и $S$. Проверить, совпадает ли сумма цифр числа $N$ с числом $S$"
   ]
  },
  {
   "cell_type": "code",
   "execution_count": 6,
   "metadata": {},
   "outputs": [
    {
     "name": "stdout",
     "output_type": "stream",
     "text": [
      "N: 144, S: 9, proverka: True\n"
     ]
    }
   ],
   "source": [
    "def fotografiryu_zakat(N, S, N_sum=0):\n",
    "    if N==0 or S==0:\n",
    "        return N_sum == S\n",
    "    return fotografiryu_zakat(N//10, S, N_sum+N%10)\n",
    "\n",
    "\n",
    "N = int(input('N: '))\n",
    "S = int(input('S: '))\n",
    "print(f'N: {N}, S: {S}, proverka: {fotografiryu_zakat(N, S)}')"
   ]
  }
 ],
 "metadata": {
  "interpreter": {
   "hash": "6c8c2e98f0f10df17ecf2617975944826424b21b2e4d0d92a9a3e08a72e97105"
  },
  "kernelspec": {
   "display_name": "Python 3.9.7 ('base')",
   "language": "python",
   "name": "python3"
  },
  "language_info": {
   "codemirror_mode": {
    "name": "ipython",
    "version": 3
   },
   "file_extension": ".py",
   "mimetype": "text/x-python",
   "name": "python",
   "nbconvert_exporter": "python",
   "pygments_lexer": "ipython3",
   "version": "3.9.7"
  },
  "orig_nbformat": 4
 },
 "nbformat": 4,
 "nbformat_minor": 2
}
