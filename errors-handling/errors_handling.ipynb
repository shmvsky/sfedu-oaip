{
 "cells": [
  {
   "cell_type": "markdown",
   "metadata": {},
   "source": [
    "# С клавиатуры вводится $N$. Получить и вывести на экран *int($N$)*. Обработать как исключение случай неверного ввода пользователем данных. Задачу решить, используя обработку исключения через *try* . . . *except* и *assert*."
   ]
  },
  {
   "cell_type": "code",
   "execution_count": 34,
   "metadata": {},
   "outputs": [
    {
     "name": "stdout",
     "output_type": "stream",
     "text": [
      "123\n"
     ]
    }
   ],
   "source": [
    "N = input('N: ')\n",
    "try:\n",
    "    assert N.isdigit()\n",
    "    print(N)\n",
    "except AssertionError as AE:\n",
    "    print('переменная должна быть числом')"
   ]
  },
  {
   "cell_type": "markdown",
   "metadata": {},
   "source": [
    "# С клавиатуры вводятся два числа в формате строки. Числа могут быть только целыми. Используя конструкцию *assert* наибольшее из них"
   ]
  },
  {
   "cell_type": "code",
   "execution_count": 36,
   "metadata": {},
   "outputs": [
    {
     "name": "stdout",
     "output_type": "stream",
     "text": [
      "10 больше 9\n"
     ]
    }
   ],
   "source": [
    "a = int(input('a: '))\n",
    "b = int(input('b: '))\n",
    "\n",
    "try:\n",
    "    assert a>b\n",
    "    print(f'{a} больше {b}')\n",
    "except AssertionError:\n",
    "    print(f'{b} больше {a}')"
   ]
  },
  {
   "cell_type": "markdown",
   "metadata": {},
   "source": [
    "# С клавиатуры вводятся x и a. Посчитать и вывести на экран значения следующих функций: $\\sqrt{x-a}$, $\\ln{x}$, $\\log_{a}{x}$, $\\sqrt{\\frac{x}{a}}$. Обработать как исключение значения $x$ и $a$, не удовлетворяющие $ООФ$."
   ]
  },
  {
   "cell_type": "code",
   "execution_count": 50,
   "metadata": {},
   "outputs": [
    {
     "name": "stdout",
     "output_type": "stream",
     "text": [
      "x должен быть больше a\n",
      "ln(5) = 1.6094379124341003\n"
     ]
    }
   ],
   "source": [
    "from math import sqrt, log\n",
    "\n",
    "x = int(input('x: '))\n",
    "a = int(input('a: '))\n",
    "\n",
    "try:\n",
    "    assert x>a, f'x должен быть больше a'\n",
    "    print(f'sqrt({x}-{a}) = {sqrt(x-a)}')\n",
    "except AssertionError as AE:\n",
    "    print(AE.args[0])\n",
    "\n",
    "try:\n",
    "    assert x>0, f'x должен быть больше 0'\n",
    "    print(f'ln({x}) = {log(x)}')\n",
    "except AssertionError as AE:\n",
    "    print(AE.args[0])"
   ]
  },
  {
   "cell_type": "markdown",
   "metadata": {},
   "source": [
    "# С клавиатуры вводится натуральное число $n$. Заполнить матрицу $A^{n×n}$ случайными числами в диапазоне $[−2n, n2]$. По введённым с клавиатуры числам $i$, $j$ вывести $A_{ij}$ на экран. Обработать как исключение случай выхода за границы двумерного списка."
   ]
  },
  {
   "cell_type": "code",
   "execution_count": 51,
   "metadata": {},
   "outputs": [
    {
     "name": "stdout",
     "output_type": "stream",
     "text": [
      "ошибочка\n"
     ]
    }
   ],
   "source": [
    "from random import randint\n",
    "n = int(input('n: '))\n",
    "mtrx = [[randint(-2*n, 2*n) for j in range(n)] for i in range(n)]\n",
    "\n",
    "i = int(input('i: '))\n",
    "j = int(input('j: '))\n",
    "\n",
    "try:\n",
    "    print(mtrx[i][j])\n",
    "except IndexError:\n",
    "    print('ошибочка')"
   ]
  },
  {
   "cell_type": "markdown",
   "metadata": {},
   "source": [
    "# С клавиатуры вводится целое число $N$. Если сумма его цифр чётная — вывести на экран сообщение, если нет — создать и вызвать собственное исключение."
   ]
  },
  {
   "cell_type": "code",
   "execution_count": null,
   "metadata": {},
   "outputs": [],
   "source": [
    "class IsNegative(Exception):\n",
    "    def __init__():\n",
    "        pass"
   ]
  }
 ],
 "metadata": {
  "interpreter": {
   "hash": "c94e8836f7032e9a074dbc235d1c1c8ba204952e3223139acb686e19bf21a5b3"
  },
  "kernelspec": {
   "display_name": "Python 3.10.0 64-bit",
   "language": "python",
   "name": "python3"
  },
  "language_info": {
   "codemirror_mode": {
    "name": "ipython",
    "version": 3
   },
   "file_extension": ".py",
   "mimetype": "text/x-python",
   "name": "python",
   "nbconvert_exporter": "python",
   "pygments_lexer": "ipython3",
   "version": "3.10.0"
  },
  "orig_nbformat": 4
 },
 "nbformat": 4,
 "nbformat_minor": 2
}
