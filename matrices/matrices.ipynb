{
 "cells": [
  {
   "cell_type": "code",
   "execution_count": 1,
   "metadata": {},
   "outputs": [],
   "source": [
    "from random import randint"
   ]
  },
  {
   "cell_type": "code",
   "execution_count": 2,
   "metadata": {},
   "outputs": [],
   "source": [
    "def printArr(a):\n",
    "    for i in range(len(a)):\n",
    "        for j in range(len(a[i])):\n",
    "            print('%10.4f' % (a[i][j]), end=' ')\n",
    "        print()"
   ]
  },
  {
   "cell_type": "code",
   "execution_count": 37,
   "metadata": {},
   "outputs": [],
   "source": [
    "def random_mtrx(n, m, start=0, end=9):\n",
    "    return [[randint(start, end) for j in range(n)] for i in range(m)]"
   ]
  },
  {
   "cell_type": "markdown",
   "metadata": {},
   "source": [
    "## Задание 10.28\n",
    "Элементы матрицы A — натуральные числа. Опреде-\n",
    "лить, все ли они имеют одинаковое значение."
   ]
  },
  {
   "cell_type": "code",
   "execution_count": 61,
   "metadata": {},
   "outputs": [
    {
     "name": "stdout",
     "output_type": "stream",
     "text": [
      "    6.0000     4.0000     9.0000     5.0000 \n",
      "    4.0000     3.0000     2.0000     2.0000 \n",
      "    0.0000     8.0000     5.0000     2.0000 \n",
      "    4.0000     5.0000     8.0000     9.0000 \n",
      "    9.0000     5.0000     2.0000     8.0000 \n",
      "    7.0000     9.0000     7.0000     6.0000 \n",
      "    3.0000     8.0000     0.0000     4.0000 \n",
      "Все числа равны? False\n",
      "\n",
      "    3.0000     6.0000     7.0000     4.0000     9.0000 \n",
      "    7.0000     7.0000     7.0000     3.0000     9.0000 \n",
      "    2.0000     0.0000     0.0000     6.0000     9.0000 \n",
      "    7.0000     4.0000     0.0000     0.0000     5.0000 \n",
      "    8.0000     4.0000     1.0000     3.0000     2.0000 \n",
      "    2.0000     2.0000     3.0000     8.0000     8.0000 \n",
      "    3.0000     8.0000     4.0000     1.0000     8.0000 \n",
      "    1.0000     3.0000     5.0000     2.0000     7.0000 \n",
      "Все числа равны? False\n",
      "\n",
      "    1.0000     3.0000     1.0000 \n",
      "    1.0000     1.0000     1.0000 \n",
      "    1.0000     1.0000     1.0000 \n",
      "Все числа равны? True\n"
     ]
    }
   ],
   "source": [
    "def isEqual(a):\n",
    "    i = 0\n",
    "    j = 0\n",
    "    while i < len(a) and a[i][j] == a[0][0]:\n",
    "        while j < len(a[i]) and a[i][j] == a[0][0]:\n",
    "            j += 1\n",
    "        j = 0\n",
    "        i += 1\n",
    "    return i == len(a)\n",
    "\n",
    "mtrx1 = random_mtrx(4, 7)\n",
    "mtrx2 = random_mtrx(5, 8)\n",
    "mtrx3 = [[1,1,1],\n",
    "         [1,1,1],\n",
    "         [1,1,1]]\n",
    "\n",
    "printArr(mtrx1)\n",
    "print(f'Все числа равны? {isEqual(mtrx1)}')\n",
    "\n",
    "print()\n",
    "printArr(mtrx2)\n",
    "print(f'Все числа равны? {isEqual(mtrx2)}')\n",
    "\n",
    "print()\n",
    "printArr(mtrx3)\n",
    "print(f'Все числа равны? {isEqual(mtrx3)}')\n"
   ]
  },
  {
   "cell_type": "code",
   "execution_count": null,
   "metadata": {},
   "outputs": [],
   "source": []
  },
  {
   "cell_type": "markdown",
   "metadata": {},
   "source": [
    "## Задание 10.31\n",
    "Найти норму квадратной матрицы"
   ]
  },
  {
   "cell_type": "code",
   "execution_count": 56,
   "metadata": {},
   "outputs": [
    {
     "ename": "IndentationError",
     "evalue": "expected an indented block after 'for' statement on line 2 (Temp/ipykernel_2332/1200372359.py, line 2)",
     "output_type": "error",
     "traceback": [
      "\u001b[1;36m  File \u001b[1;32m\"C:\\Users\\greng\\AppData\\Local\\Temp/ipykernel_2332/1200372359.py\"\u001b[1;36m, line \u001b[1;32m2\u001b[0m\n\u001b[1;33m    for i in range(len(a)):\u001b[0m\n\u001b[1;37m                           ^\u001b[0m\n\u001b[1;31mIndentationError\u001b[0m\u001b[1;31m:\u001b[0m expected an indented block after 'for' statement on line 2\n"
     ]
    }
   ],
   "source": [
    "a = [0]*4\n",
    "for i in range(len(a)):"
   ]
  },
  {
   "cell_type": "code",
   "execution_count": null,
   "metadata": {},
   "outputs": [],
   "source": []
  }
 ],
 "metadata": {
  "interpreter": {
   "hash": "6f7c4d44365b28014734406e4d617c1e1f76ea196def854c7b951a230f6e24f1"
  },
  "kernelspec": {
   "display_name": "Python 3.9.5 64-bit",
   "language": "python",
   "name": "python3"
  },
  "language_info": {
   "codemirror_mode": {
    "name": "ipython",
    "version": 3
   },
   "file_extension": ".py",
   "mimetype": "text/x-python",
   "name": "python",
   "nbconvert_exporter": "python",
   "pygments_lexer": "ipython3",
   "version": "3.10.0"
  },
  "orig_nbformat": 4
 },
 "nbformat": 4,
 "nbformat_minor": 2
}
