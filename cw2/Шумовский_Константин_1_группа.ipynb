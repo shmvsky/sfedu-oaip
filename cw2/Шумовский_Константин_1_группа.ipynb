{
 "cells": [
  {
   "cell_type": "markdown",
   "metadata": {},
   "source": [
    "# Задание **№1**"
   ]
  },
  {
   "cell_type": "code",
   "execution_count": 71,
   "metadata": {},
   "outputs": [
    {
     "name": "stdout",
     "output_type": "stream",
     "text": [
      "N=7\n"
     ]
    }
   ],
   "source": [
    "from random import randint\n",
    "\n",
    "N = randint(1, 10)\n",
    "\n",
    "print(f'N = {N}')\n",
    "\n",
    "with open('./n1.txt', 'w') as f:\n",
    "    for i in range(N):\n",
    "        surname = input('Введите Фамилию')\n",
    "        name = input('Введите Имя')\n",
    "\n",
    "        birth_day = randint(0, 29)\n",
    "        birth_month = randint(1, 12)\n",
    "        birth_year = randint(1990, 2022)\n",
    "\n",
    "        age = 2022-birth_year\n",
    "    \n",
    "        f.write(f'{surname} {name} {birth_day}.{birth_month}.{birth_year} {age}\\n')"
   ]
  },
  {
   "cell_type": "markdown",
   "metadata": {},
   "source": [
    "# Задание **№2**"
   ]
  },
  {
   "cell_type": "code",
   "execution_count": 79,
   "metadata": {},
   "outputs": [
    {
     "name": "stdout",
     "output_type": "stream",
     "text": [
      "Содержимое словаря:\n",
      "wadwa      sdfdsf     5.1.2021    1  \n",
      "\n",
      "ertert     dfgfd      13.4.2006   16 \n",
      "\n",
      "wweqwe     dsfsdf     8.1.1993    29 \n",
      "\n",
      "tryt       dfgdfg     18.11.1992  30 \n",
      "\n",
      "cxvxcv     qweqwe     29.6.1998   24 \n",
      "\n",
      "cvcxv      gghjhg     2.11.2020   2  \n",
      "\n",
      "asdas      cvbcv      11.5.2022   0  \n",
      "\n"
     ]
    }
   ],
   "source": [
    "data = {}\n",
    "\n",
    "print('Содержимое словаря:')\n",
    "\n",
    "with open('./n1.txt', 'r') as f:\n",
    "    lines = f.readlines()\n",
    "    for i in range(len(lines)):\n",
    "        components = lines[i].split()\n",
    "\n",
    "        surname = components[0]\n",
    "        name = components[1]\n",
    "        birth_date = components[2]\n",
    "        age = components[3]\n",
    "\n",
    "        print('%-10s %-10s %-11s %-3s\\n' % (surname, name, birth_date, age))\n",
    "\n",
    "        data.update({i:{\n",
    "            'surname': surname,\n",
    "            'name': name,\n",
    "            'date': birth_date,\n",
    "            'age': age\n",
    "        }})\n"
   ]
  },
  {
   "cell_type": "markdown",
   "metadata": {},
   "source": [
    "# Задание **№3**"
   ]
  },
  {
   "cell_type": "code",
   "execution_count": 80,
   "metadata": {},
   "outputs": [
    {
     "name": "stdout",
     "output_type": "stream",
     "text": [
      "Средний возраст: 15\n"
     ]
    }
   ],
   "source": [
    "s = 0\n",
    "c = 0\n",
    "for val in data.values():\n",
    "    s += int(val['age'])\n",
    "    c += 1\n",
    "\n",
    "print('Средний возраст: %.0f'%(s/c))"
   ]
  },
  {
   "cell_type": "markdown",
   "metadata": {},
   "source": [
    "# Задание **№4**"
   ]
  },
  {
   "cell_type": "code",
   "execution_count": 81,
   "metadata": {},
   "outputs": [],
   "source": [
    "seasons = {\n",
    "    12:'Зима', 1: 'Зима', 2: 'Зима',\n",
    "    3: 'Весна', 4: 'Весна', 5: 'Весна',\n",
    "    6: 'Лето', 7: 'Лето', 8: 'Лето',\n",
    "    9: 'Осень', 10: 'Осень', 11: 'Осень'\n",
    "}\n",
    "\n",
    "for i in data:\n",
    "    month = int(data[i]['date'].split('.')[1])\n",
    "    data[i].update({'season':seasons[month]})"
   ]
  },
  {
   "cell_type": "code",
   "execution_count": 87,
   "metadata": {},
   "outputs": [
    {
     "name": "stdout",
     "output_type": "stream",
     "text": [
      "Содержимое файла после изменений:\n",
      "wadwa      sdfdsf     5.1.2021    Зима   1  \n",
      "\n",
      "ertert     dfgfd      13.4.2006   Весна  16 \n",
      "\n",
      "wweqwe     dsfsdf     8.1.1993    Зима   29 \n",
      "\n",
      "tryt       dfgdfg     18.11.1992  Осень  30 \n",
      "\n",
      "cxvxcv     qweqwe     29.6.1998   Лето   24 \n",
      "\n",
      "cvcxv      gghjhg     2.11.2020   Осень  2  \n",
      "\n",
      "asdas      cvbcv      11.5.2022   Весна  0  \n",
      "\n"
     ]
    }
   ],
   "source": [
    "print('Содержимое файла после изменений:')\n",
    "for val in data.values():\n",
    "    print('%-10s %-10s %-11s %-6s %-3s\\n' % (val['surname'], val['name'], val['date'], val['season'], val['age']))\n",
    "    "
   ]
  }
 ],
 "metadata": {
  "interpreter": {
   "hash": "f1a342ae37571f9e794b874db8ad3e31019c8e08bedd24f67bf666cd15f7bed6"
  },
  "kernelspec": {
   "display_name": "Python 3.10.4 ('sfedu_oaip-pFu5sytp')",
   "language": "python",
   "name": "python3"
  },
  "language_info": {
   "codemirror_mode": {
    "name": "ipython",
    "version": 3
   },
   "file_extension": ".py",
   "mimetype": "text/x-python",
   "name": "python",
   "nbconvert_exporter": "python",
   "pygments_lexer": "ipython3",
   "version": "3.10.4"
  },
  "orig_nbformat": 4
 },
 "nbformat": 4,
 "nbformat_minor": 2
}
